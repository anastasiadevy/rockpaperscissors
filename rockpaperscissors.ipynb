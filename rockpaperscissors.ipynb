{
  "nbformat": 4,
  "nbformat_minor": 0,
  "metadata": {
    "colab": {
      "name": "rockpaperscissors",
      "provenance": [],
      "collapsed_sections": []
    },
    "kernelspec": {
      "name": "python3",
      "display_name": "Python 3"
    }
  },
  "cells": [
    {
      "cell_type": "markdown",
      "metadata": {
        "id": "a6hp2_1qyyKL",
        "colab_type": "text"
      },
      "source": [
        "# Import Libraries"
      ]
    },
    {
      "cell_type": "code",
      "metadata": {
        "id": "9_obrqcwH4b8",
        "colab_type": "code",
        "colab": {}
      },
      "source": [
        "import tensorflow as tf\n",
        "import numpy as np\n",
        "import matplotlib.pyplot as plt\n",
        "import zipfile\n",
        "import os\n",
        "from tensorflow.keras import layers\n",
        "from tensorflow.keras.optimizers import RMSprop\n",
        "from tensorflow.keras.preprocessing.image import ImageDataGenerator\n",
        "from google.colab import files\n",
        "from keras.preprocessing import image"
      ],
      "execution_count": 0,
      "outputs": []
    },
    {
      "cell_type": "markdown",
      "metadata": {
        "id": "NIG5y5_Ny6Mx",
        "colab_type": "text"
      },
      "source": [
        "# Download & unzip dataset"
      ]
    },
    {
      "cell_type": "code",
      "metadata": {
        "id": "BYHCUu9fBEz5",
        "colab_type": "code",
        "colab": {}
      },
      "source": [
        "!wget -q  https://dicodingacademy.blob.core.windows.net/picodiploma/ml_pemula_academy/rockpaperscissors.zip\n",
        "!unzip -q rockpaperscissors.zip\n",
        "!mv \"/content/rockpaperscissors/rps-cv-images\" \"/content/\"\n",
        "\n",
        "base_dir = '/content/rockpaperscissors'\n",
        "\n",
        "paper_dir = os.path.join(base_dir, 'paper')\n",
        "rock_dir = os.path.join(base_dir, 'rock')\n",
        "scissors_dir = os.path.join(base_dir, 'scissors')"
      ],
      "execution_count": 0,
      "outputs": []
    },
    {
      "cell_type": "markdown",
      "metadata": {
        "id": "68sPda4bzckF",
        "colab_type": "text"
      },
      "source": [
        "# Train and validation data split"
      ]
    },
    {
      "cell_type": "code",
      "metadata": {
        "id": "1Oh85GAhUcrn",
        "colab_type": "code",
        "colab": {}
      },
      "source": [
        "dataset = base_dir\n",
        "\n",
        "data_generator = ImageDataGenerator(rescale=1/255, \n",
        "                                    validation_split=0.2)\n",
        "\n",
        "training_generator = data_generator.flow_from_directory(\n",
        "    dataset,\n",
        "    target_size=(150, 150),\n",
        "    batch_size=128,\n",
        "    class_mode='categorical',\n",
        "    subset='training'\n",
        ")\n",
        "\n",
        "validation_generator = data_generator.flow_from_directory(\n",
        "    dataset,\n",
        "    target_size=(150, 150),\n",
        "    batch_size=32,\n",
        "    class_mode='categorical',\n",
        "    subset='validation'\n",
        ")"
      ],
      "execution_count": 0,
      "outputs": []
    },
    {
      "cell_type": "code",
      "metadata": {
        "id": "D_YQ7MKf4n4g",
        "colab_type": "code",
        "colab": {}
      },
      "source": [
        "x, y = training_generator.next()\n",
        "\n",
        "for i in range (10):\n",
        "      plt.imshow(x[i], interpolation='nearest')\n",
        "      plt.show()\n",
        "      print(y[i])"
      ],
      "execution_count": 0,
      "outputs": []
    },
    {
      "cell_type": "markdown",
      "metadata": {
        "id": "WukQ81nmziE1",
        "colab_type": "text"
      },
      "source": [
        "# Create model using sequential model"
      ]
    },
    {
      "cell_type": "code",
      "metadata": {
        "id": "Pc5B4kEvT4-j",
        "colab_type": "code",
        "colab": {}
      },
      "source": [
        "model = tf.keras.models.Sequential([\n",
        "\n",
        "    tf.keras.layers.Conv2D(64, (3,3), activation='relu', input_shape=(150, 150, 3)),\n",
        "    tf.keras.layers.MaxPooling2D(2, 2),\n",
        "\n",
        "    tf.keras.layers.Conv2D(64, (3,3), activation='relu'),\n",
        "    tf.keras.layers.MaxPooling2D(2,2),\n",
        "\n",
        "    tf.keras.layers.Conv2D(64, (3,3), activation='relu'),\n",
        "    tf.keras.layers.MaxPooling2D(2,2),\n",
        "\n",
        "    tf.keras.layers.Conv2D(128, (3,3), activation='relu'),\n",
        "    tf.keras.layers.MaxPooling2D(2,2),\n",
        "\n",
        "    tf.keras.layers.Flatten(),\n",
        "    tf.keras.layers.Dropout(0.5),\n",
        "\n",
        "    tf.keras.layers.Dense(512, activation='relu'),\n",
        "    tf.keras.layers.Dense(3, activation='softmax')\n",
        "])\n",
        "\n",
        "model.summary()\n",
        "\n",
        "model.compile(optimizer='rmsprop',\n",
        "              loss=tf.keras.losses.CategoricalCrossentropy(from_logits=True),\n",
        "              metrics=['accuracy'])"
      ],
      "execution_count": 0,
      "outputs": []
    },
    {
      "cell_type": "markdown",
      "metadata": {
        "id": "RyEP7Y0kzqjS",
        "colab_type": "text"
      },
      "source": [
        "# Train model"
      ]
    },
    {
      "cell_type": "code",
      "metadata": {
        "id": "RX2d26AMpYQp",
        "colab_type": "code",
        "colab": {}
      },
      "source": [
        "model_training = model.fit(training_generator, \n",
        "                    epochs=15, \n",
        "                    steps_per_epoch=12, \n",
        "                    validation_data = validation_generator, \n",
        "                    verbose = 1, \n",
        "                    validation_steps=3)"
      ],
      "execution_count": 0,
      "outputs": []
    },
    {
      "cell_type": "markdown",
      "metadata": {
        "id": "9RvAO6G0zuB9",
        "colab_type": "text"
      },
      "source": [
        "# Model training and validation accuracy graph"
      ]
    },
    {
      "cell_type": "code",
      "metadata": {
        "id": "26t7KF1K-Dl4",
        "colab_type": "code",
        "colab": {}
      },
      "source": [
        "acc = model_training.history['accuracy']\n",
        "val_acc = model_training.history['val_accuracy']\n",
        "loss = model_training.history['loss']\n",
        "val_loss = model_training.history['val_loss']\n",
        "epochs = range(len(acc))\n",
        "\n",
        "plt.plot(epochs, acc, 'r', label='Train Accuracy')\n",
        "plt.plot(epochs, val_acc, 'b', label='Validation Accuracy')\n",
        "plt.title('Train and Validation Accuracy')\n",
        "plt.legend(loc=0)\n",
        "plt.figure()"
      ],
      "execution_count": 0,
      "outputs": []
    },
    {
      "cell_type": "markdown",
      "metadata": {
        "id": "02oT3iwo0lZc",
        "colab_type": "text"
      },
      "source": [
        "# Image prediction"
      ]
    },
    {
      "cell_type": "code",
      "metadata": {
        "id": "kgwXBxNHB9no",
        "colab_type": "code",
        "colab": {}
      },
      "source": [
        "uploaded = files.upload()\n",
        "\n",
        "for fn in uploaded.keys():\n",
        " \n",
        "  path = fn\n",
        "  img = image.load_img(path, target_size=(150, 150))\n",
        "  x = image.img_to_array(img)\n",
        "  x = np.expand_dims(x, axis=0)\n",
        "\n",
        "  images = np.vstack([x])\n",
        "  classes = model.predict(images)\n",
        "  class_names = ['paper', 'rock', 'scissors']\n",
        "\n",
        "  print('Prediction result:' + ' ' + class_names[np.argmax(classes)])"
      ],
      "execution_count": 0,
      "outputs": []
    }
  ]
}